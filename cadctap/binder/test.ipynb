{
 "cells": [
  {
   "cell_type": "code",
   "execution_count": 1,
   "metadata": {},
   "outputs": [
    {
     "name": "stdout",
     "output_type": "stream",
     "text": [
      "Collecting cadctap\n",
      "  Downloading https://files.pythonhosted.org/packages/5b/e0/82c7ac42b9407b160dda77bec58e905bc8b07a312dff40d579e9bb872bf0/cadctap-0.7.2.tar.gz\n",
      "Collecting cadcutils>=1.1.13 (from cadctap)\n",
      "  Downloading https://files.pythonhosted.org/packages/f5/9c/e95afda7e45bdb90456ccfbb55df62c855599b09732d744bf6fb74afa803/cadcutils-1.1.13.tar.gz\n",
      "Collecting clint>=0.5.1 (from cadctap)\n",
      "  Downloading https://files.pythonhosted.org/packages/3d/b4/41ecb1516f1ba728f39ee7062b9dac1352d39823f513bb6f9e8aeb86e26d/clint-0.5.1.tar.gz\n",
      "Collecting python-magic>=0.4.15 (from cadctap)\n",
      "  Downloading https://files.pythonhosted.org/packages/42/a1/76d30c79992e3750dac6790ce16f056f870d368ba142f83f75f694d93001/python_magic-0.4.15-py2.py3-none-any.whl\n",
      "Requirement already satisfied: requests>=2.18 in /opt/conda/lib/python3.6/site-packages (from cadctap)\n",
      "Collecting requests-toolbelt>=0.8.0 (from cadctap)\n",
      "  Downloading https://files.pythonhosted.org/packages/97/8a/d710f792d6f6ecc089c5e55b66e66c3f2f35516a1ede5a8f54c13350ffb0/requests_toolbelt-0.8.0-py2.py3-none-any.whl (54kB)\n",
      "\u001b[K    100% |████████████████████████████████| 61kB 1.8MB/s ta 0:00:011\n",
      "\u001b[?25hCollecting lxml>=3.7.0 (from cadcutils>=1.1.13->cadctap)\n",
      "  Downloading https://files.pythonhosted.org/packages/5d/d4/e81be10be160a6323cf5f29f1eabc9693080cb16780a2e19c96091ee37ee/lxml-4.3.0-cp36-cp36m-manylinux1_x86_64.whl (5.7MB)\n",
      "\u001b[K    100% |████████████████████████████████| 5.7MB 223kB/s ta 0:00:01\n",
      "\u001b[?25hRequirement already satisfied: six in /opt/conda/lib/python3.6/site-packages (from cadcutils>=1.1.13->cadctap)\n",
      "Collecting html2text (from cadcutils>=1.1.13->cadctap)\n",
      "  Downloading https://files.pythonhosted.org/packages/16/20/de2b458ef434713053dd83209a03a5431ebe0527c8e14d9ae7838ff67d8a/html2text-2018.1.9-py3-none-any.whl\n",
      "Collecting args (from clint>=0.5.1->cadctap)\n",
      "  Downloading https://files.pythonhosted.org/packages/e5/1c/b701b3f4bd8d3667df8342f311b3efaeab86078a840fb826bd204118cc6b/args-0.1.0.tar.gz\n",
      "Requirement already satisfied: chardet<3.1.0,>=3.0.2 in /opt/conda/lib/python3.6/site-packages (from requests>=2.18->cadctap)\n",
      "Requirement already satisfied: idna<2.7,>=2.5 in /opt/conda/lib/python3.6/site-packages (from requests>=2.18->cadctap)\n",
      "Requirement already satisfied: urllib3<1.23,>=1.21.1 in /opt/conda/lib/python3.6/site-packages (from requests>=2.18->cadctap)\n",
      "Requirement already satisfied: certifi>=2017.4.17 in /opt/conda/lib/python3.6/site-packages (from requests>=2.18->cadctap)\n",
      "Building wheels for collected packages: cadctap, cadcutils, clint, args\n",
      "  Running setup.py bdist_wheel for cadctap ... \u001b[?25ldone\n",
      "\u001b[?25h  Stored in directory: /home/jovyan/.cache/pip/wheels/8d/27/a9/9f4ed53c9dfea9f3af5ce62cdf4835e046acb9fb73a3558eab\n",
      "  Running setup.py bdist_wheel for cadcutils ... \u001b[?25ldone\n",
      "\u001b[?25h  Stored in directory: /home/jovyan/.cache/pip/wheels/99/44/ae/da3e7638c1f9b9428e49bb3ddf6541fd53e069033330940647\n",
      "  Running setup.py bdist_wheel for clint ... \u001b[?25ldone\n",
      "\u001b[?25h  Stored in directory: /home/jovyan/.cache/pip/wheels/4f/e9/45/223565e5b1a4b09e12c6de6f8ba7c2c0e9127dec17cf830f83\n",
      "  Running setup.py bdist_wheel for args ... \u001b[?25ldone\n",
      "\u001b[?25h  Stored in directory: /home/jovyan/.cache/pip/wheels/58/54/ea/d995d18af68c057eb76b87b02c92bc66ac34d360ef141780f4\n",
      "Successfully built cadctap cadcutils clint args\n",
      "Installing collected packages: lxml, html2text, cadcutils, args, clint, python-magic, requests-toolbelt, cadctap\n",
      "Successfully installed args-0.1.0 cadctap-0.7.2 cadcutils-1.1.13 clint-0.5.1 html2text-2018.1.9 lxml-4.3.0 python-magic-0.4.15 requests-toolbelt-0.8.0\n",
      "\u001b[33mYou are using pip version 9.0.1, however version 19.0.1 is available.\n",
      "You should consider upgrading via the 'pip install --upgrade pip' command.\u001b[0m\n"
     ]
    }
   ],
   "source": [
    "!pip install cadctap"
   ]
  },
  {
   "cell_type": "code",
   "execution_count": 4,
   "metadata": {},
   "outputs": [
    {
     "name": "stdout",
     "output_type": "stream",
     "text": [
      "observationURI\tsequenceNumber\tproposal_keywords\ttarget_standard\ttarget_redshift\ttarget_moving\ttarget_keywords\ttelescope_geoLocationX\ttelescope_geoLocationY\ttelescope_geoLocationZ\ttelescope_keywords\tinstrument_keywords\tenvironment_seeing\tenvironment_humidity\tenvironment_elevation\tenvironment_tau\tenvironment_wavelengthTau\tenvironment_ambientTemp\tenvironment_photometric\tmembers\ttypeCode\tmetaChecksum\taccMetaChecksum\tobsID\tcollection\tobservationID\talgorithm_name\ttype\tintent\tmetaRelease\tproposal_id\tproposal_pi\tproposal_project\tproposal_title\ttarget_name\ttarget_type\ttelescope_name\trequirements_flag\tinstrument_name\tlastModified\tmaxLastModified\r\n",
      "caom:CFHT/340072\t340072\t\t0\t\t0\t\t-5464228.6\t-2493778.2\t2150937.8\t\t\t\t\t\t\t\t\t\t\tS\tmd5:46d77f6783cf72e92bc4f7efde7e2e88\tmd5:8b3b1d4a8700e20884c53be724e33133\t00000000-0000-0000-011a-1094473e43ab\tCFHT\t340072\texposure\tOBJECT\tcalibration\t1996-01-01T13:30:21.000\tENGINEERING\tunknown\t\t\tCIEL, FILTRE K\tfield\tCFHT 3.6m\t\tREDEYE\t2017-07-10T20:30:15.113\t2017-11-16T10:55:51.490\r\n",
      "caom:DAO/dao_c122_2018_003262\t\t\t0\t\t0\t\t-2331226.7883358444\t-3532798.982897074\t4755607.321828939\t\t\t\t74.0\t\t\t\t\t0\t\tS\tmd5:0fb18c28b434175001ab4865cab7813a\tmd5:77c39144a79725e191595759b6cdfcc7\t00000000-0000-0000-581d-01636c3962bb\tDAO\tdao_c122_2018_003262\texposure\tbias\tcalibration\t2018-05-17T03:45:20.000\tDAO122_2018B5\tScarfe\t\t\tBias\tobject\tDAO 1.2-m\t\tMcKellar Spectrograph\t2018-05-17T03:51:50.887\t2018-05-17T03:51:50.887\r\n",
      "caom:FUSE/b0501101\t\t\t0\t\t0\tComet\t\t\t\t\t\t\t\t\t\t\t\t\t\tS\tmd5:3b76ebf88a8df1e10c9e752e5453447b\tmd5:c8f6a976159dac55f56abbe2f8e21598\t00000000-0000-0000-107c-01455c3b417d\tFUSE\tb0501101\texposure\tobject\tscience\t2008-01-20T00:00:00.000\tB050\tHarold Weaver\t\t\tLINEAR-2000WM1-09\tobject\tFUSE\t\tFES\t2017-10-14T02:37:35.270\t2017-10-14T02:37:35.270\r\n",
      "\r\n",
      "DONE\r\n"
     ]
    }
   ],
   "source": [
    "!cadc-tap query -f tsv --service ivo://cadc.nrc.ca/tap \"select top 3 * from caom2.Observation\""
   ]
  },
  {
   "cell_type": "code",
   "execution_count": null,
   "metadata": {},
   "outputs": [],
   "source": []
  }
 ],
 "metadata": {
  "kernelspec": {
   "display_name": "Python 3",
   "language": "python",
   "name": "python3"
  },
  "language_info": {
   "codemirror_mode": {
    "name": "ipython",
    "version": 3
   },
   "file_extension": ".py",
   "mimetype": "text/x-python",
   "name": "python",
   "nbconvert_exporter": "python",
   "pygments_lexer": "ipython3",
   "version": "3.6.4"
  }
 },
 "nbformat": 4,
 "nbformat_minor": 2
}
